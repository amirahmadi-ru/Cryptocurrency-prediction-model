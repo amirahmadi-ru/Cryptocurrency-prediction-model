{
 "cells": [
  {
   "cell_type": "code",
   "execution_count": 1,
   "id": "a7066e1a",
   "metadata": {},
   "outputs": [
    {
     "name": "stderr",
     "output_type": "stream",
     "text": [
      "2022-08-21 11:26:24.488072: W tensorflow/stream_executor/platform/default/dso_loader.cc:64] Could not load dynamic library 'libcudart.so.11.0'; dlerror: libcudart.so.11.0: cannot open shared object file: No such file or directory\n",
      "2022-08-21 11:26:24.488175: I tensorflow/stream_executor/cuda/cudart_stub.cc:29] Ignore above cudart dlerror if you do not have a GPU set up on your machine.\n"
     ]
    }
   ],
   "source": [
    "import json\n",
    "import requests\n",
    "import numpy as np\n",
    "import pandas as pd\n",
    "import seaborn as sns\n",
    "import matplotlib.pyplot as plt\n",
    "from tensorflow.keras.models import Sequential\n",
    "from tensorflow.keras.layers import Activation, Dense, Dropout, LSTM\n",
    "from sklearn.metrics import mean_absolute_error"
   ]
  },
  {
   "cell_type": "code",
   "execution_count": 2,
   "id": "c8e92b5b",
   "metadata": {},
   "outputs": [],
   "source": [
    "response = requests.get(\"https://min-api.cryptocompare.com/data/histoday?fsym=ETH&tsym=CAD&limit=1000\")\n",
    "# json.loads(response.content)['Data']"
   ]
  },
  {
   "cell_type": "code",
   "execution_count": 3,
   "id": "21574802",
   "metadata": {},
   "outputs": [],
   "source": [
    "df = pd.DataFrame(json.loads(response.content)['Data'])"
   ]
  },
  {
   "cell_type": "code",
   "execution_count": 4,
   "id": "d5e507bd",
   "metadata": {
    "scrolled": true
   },
   "outputs": [
    {
     "data": {
      "text/html": [
       "<div>\n",
       "<style scoped>\n",
       "    .dataframe tbody tr th:only-of-type {\n",
       "        vertical-align: middle;\n",
       "    }\n",
       "\n",
       "    .dataframe tbody tr th {\n",
       "        vertical-align: top;\n",
       "    }\n",
       "\n",
       "    .dataframe thead th {\n",
       "        text-align: right;\n",
       "    }\n",
       "</style>\n",
       "<table border=\"1\" class=\"dataframe\">\n",
       "  <thead>\n",
       "    <tr style=\"text-align: right;\">\n",
       "      <th></th>\n",
       "      <th>time</th>\n",
       "      <th>high</th>\n",
       "      <th>low</th>\n",
       "      <th>open</th>\n",
       "      <th>volumefrom</th>\n",
       "      <th>volumeto</th>\n",
       "      <th>close</th>\n",
       "      <th>conversionType</th>\n",
       "      <th>conversionSymbol</th>\n",
       "    </tr>\n",
       "  </thead>\n",
       "  <tbody>\n",
       "    <tr>\n",
       "      <th>0</th>\n",
       "      <td>1574640000</td>\n",
       "      <td>199.74</td>\n",
       "      <td>191.19</td>\n",
       "      <td>185.98</td>\n",
       "      <td>3500174.72</td>\n",
       "      <td>6.815155e+08</td>\n",
       "      <td>194.71</td>\n",
       "      <td>multiply</td>\n",
       "      <td>BTC</td>\n",
       "    </tr>\n",
       "    <tr>\n",
       "      <th>1</th>\n",
       "      <td>1574726400</td>\n",
       "      <td>198.25</td>\n",
       "      <td>193.68</td>\n",
       "      <td>194.71</td>\n",
       "      <td>2324338.15</td>\n",
       "      <td>4.559359e+08</td>\n",
       "      <td>196.16</td>\n",
       "      <td>multiply</td>\n",
       "      <td>BTC</td>\n",
       "    </tr>\n",
       "    <tr>\n",
       "      <th>2</th>\n",
       "      <td>1574812800</td>\n",
       "      <td>207.57</td>\n",
       "      <td>202.27</td>\n",
       "      <td>196.16</td>\n",
       "      <td>2654231.01</td>\n",
       "      <td>5.384714e+08</td>\n",
       "      <td>202.87</td>\n",
       "      <td>multiply</td>\n",
       "      <td>BTC</td>\n",
       "    </tr>\n",
       "    <tr>\n",
       "      <th>3</th>\n",
       "      <td>1574899200</td>\n",
       "      <td>204.69</td>\n",
       "      <td>199.80</td>\n",
       "      <td>202.87</td>\n",
       "      <td>2177473.91</td>\n",
       "      <td>4.411397e+08</td>\n",
       "      <td>202.59</td>\n",
       "      <td>multiply</td>\n",
       "      <td>BTC</td>\n",
       "    </tr>\n",
       "    <tr>\n",
       "      <th>4</th>\n",
       "      <td>1574985600</td>\n",
       "      <td>212.58</td>\n",
       "      <td>204.02</td>\n",
       "      <td>202.59</td>\n",
       "      <td>2323684.94</td>\n",
       "      <td>4.783989e+08</td>\n",
       "      <td>205.88</td>\n",
       "      <td>multiply</td>\n",
       "      <td>BTC</td>\n",
       "    </tr>\n",
       "  </tbody>\n",
       "</table>\n",
       "</div>"
      ],
      "text/plain": [
       "         time    high     low    open  volumefrom      volumeto   close  \\\n",
       "0  1574640000  199.74  191.19  185.98  3500174.72  6.815155e+08  194.71   \n",
       "1  1574726400  198.25  193.68  194.71  2324338.15  4.559359e+08  196.16   \n",
       "2  1574812800  207.57  202.27  196.16  2654231.01  5.384714e+08  202.87   \n",
       "3  1574899200  204.69  199.80  202.87  2177473.91  4.411397e+08  202.59   \n",
       "4  1574985600  212.58  204.02  202.59  2323684.94  4.783989e+08  205.88   \n",
       "\n",
       "  conversionType conversionSymbol  \n",
       "0       multiply              BTC  \n",
       "1       multiply              BTC  \n",
       "2       multiply              BTC  \n",
       "3       multiply              BTC  \n",
       "4       multiply              BTC  "
      ]
     },
     "execution_count": 4,
     "metadata": {},
     "output_type": "execute_result"
    }
   ],
   "source": [
    "df.head()"
   ]
  },
  {
   "cell_type": "code",
   "execution_count": 11,
   "id": "ca6d5229",
   "metadata": {},
   "outputs": [],
   "source": [
    "def train_test_split(df):\n",
    "    split_row = len(df) - int(0.1 * len(df))\n",
    "    train_data = df.iloc[:split_row]\n",
    "    test_data = df.iloc[split_row:]\n",
    "    return train_data, test_data\n",
    "train, test = train_test_split(df)"
   ]
  },
  {
   "cell_type": "code",
   "execution_count": 12,
   "id": "7b92190d",
   "metadata": {},
   "outputs": [],
   "source": [
    "# len(train)\n",
    "# len(test)"
   ]
  },
  {
   "cell_type": "code",
   "execution_count": 13,
   "id": "5206efc3",
   "metadata": {},
   "outputs": [
    {
     "data": {
      "text/plain": [
       "[<matplotlib.lines.Line2D at 0x7f25a154a400>]"
      ]
     },
     "execution_count": 13,
     "metadata": {},
     "output_type": "execute_result"
    },
    {
     "data": {
      "image/png": "[encoded data removed]",
      "text/plain": [
       "<Figure size 864x576 with 1 Axes>"
      ]
     },
     "metadata": {
      "needs_background": "light"
     },
     "output_type": "display_data"
    }
   ],
   "source": [
    "fig, ax = plt.subplots(1, figsize=(12, 8))\n",
    "ax.plot(train['close'], label='train_data')\n",
    "ax.plot(test['close'], label='test_data')"
   ]
  },
  {
   "cell_type": "code",
   "execution_count": null,
   "id": "30605ca1",
   "metadata": {},
   "outputs": [],
   "source": []
  }
 ],
 "metadata": {
  "kernelspec": {
   "display_name": "Python 3 (ipykernel)",
   "language": "python",
   "name": "python3"
  },
  "language_info": {
   "codemirror_mode": {
    "name": "ipython",
    "version": 3
   },
   "file_extension": ".py",
   "mimetype": "text/x-python",
   "name": "python",
   "nbconvert_exporter": "python",
   "pygments_lexer": "ipython3",
   "version": "3.9.7"
  }
 },
 "nbformat": 4,
 "nbformat_minor": 5
}
